{
 "cells": [
  {
   "cell_type": "code",
   "execution_count": null,
   "metadata": {},
   "outputs": [],
   "source": [
    "import os\n",
    "import pickle"
   ]
  },
  {
   "cell_type": "code",
   "execution_count": 8,
   "metadata": {},
   "outputs": [
    {
     "name": "stdout",
     "output_type": "stream",
     "text": [
      "File: ind.citeseer.allx\n",
      "Shape: torch.Size([3327, 3703])\n"
     ]
    }
   ],
   "source": [
    "directory = './code/results/citeseer/'\n",
    "file_name = 'ind.citeseer.allx'\n",
    "file_path = os.path.join(directory, file_name)\n",
    "with open(file_path, 'rb') as f:\n",
    "    data = pickle.load(f)\n",
    "    print(f\"File: {file_name}\")\n",
    "    if hasattr(data, 'shape'):\n",
    "        print(f\"Shape: {data.shape}\")\n",
    "    else:\n",
    "        print(\"The loaded data does not have a 'shape' attribute.\")"
   ]
  },
  {
   "cell_type": "code",
   "execution_count": 10,
   "metadata": {},
   "outputs": [
    {
     "name": "stdout",
     "output_type": "stream",
     "text": [
      "UnicodeDecodeError: 'ascii' codec can't decode byte 0x85 in position 16: ordinal not in range(128)\n"
     ]
    }
   ],
   "source": [
    "directory = './code/datasets/citeseer/citeseer/raw/'\n",
    "file_name = 'ind.citeseer.allx'\n",
    "file_path = os.path.join(directory, file_name)\n",
    "try:\n",
    "    with open(file_path, 'rb') as f:\n",
    "        data = pickle.load(f)  # Ensure binary mode is used\n",
    "        print(f\"File: {file_name}\")\n",
    "        if hasattr(data, 'shape'):\n",
    "            print(f\"Shape: {data.shape}\")\n",
    "        else:\n",
    "            print(\"The loaded data does not have a 'shape' attribute.\")\n",
    "except UnicodeDecodeError as e:\n",
    "    print(f\"UnicodeDecodeError: {e}\")\n",
    "except FileNotFoundError:\n",
    "    print(f\"File not found: {file_path}\")\n",
    "except Exception as e:\n",
    "    print(f\"An error occurred: {e}\")"
   ]
  },
  {
   "cell_type": "code",
   "execution_count": 17,
   "metadata": {},
   "outputs": [
    {
     "name": "stdout",
     "output_type": "stream",
     "text": [
      "UnicodeDecodeError: 'ascii' codec can't decode byte 0xa1 in position 12: ordinal not in range(128)\n"
     ]
    }
   ],
   "source": [
    "import os\n",
    "import pickle\n",
    "\n",
    "# Specify the directory and file name\n",
    "directory = './code/datasets/pubmed/pubmed/raw/'\n",
    "file_name = 'ind.pubmed.allx'\n",
    "file_path = os.path.join(directory, file_name)\n",
    "\n",
    "# Open the file in binary mode and load it using pickle\n",
    "try:\n",
    "    with open(file_path, 'rb') as f:\n",
    "        data = pickle.load(f)  # Ensure binary mode is used\n",
    "        print(f\"File: {file_name}\")\n",
    "        if hasattr(data, 'shape'):\n",
    "            print(f\"Shape: {data.shape}\")\n",
    "        else:\n",
    "            print(\"The loaded data does not have a 'shape' attribute.\")\n",
    "except UnicodeDecodeError as e:\n",
    "    print(f\"UnicodeDecodeError: {e}\")\n",
    "except FileNotFoundError:\n",
    "    print(f\"File not found: {file_path}\")\n",
    "except Exception as e:\n",
    "    print(f\"An error occurred: {e}\")"
   ]
  },
  {
   "cell_type": "code",
   "execution_count": null,
   "metadata": {},
   "outputs": [],
   "source": [
    "\n",
    "\n",
    "\n",
    "\n",
    "\n",
    "\n",
    "\n",
    "\n",
    "\n",
    "\n",
    "\n",
    "\n",
    "\n",
    "\n",
    "\n",
    "\n",
    "\n",
    "\n",
    "\n"
   ]
  }
 ],
 "metadata": {
  "kernelspec": {
   "display_name": "sp_gnn",
   "language": "python",
   "name": "python3"
  },
  "language_info": {
   "codemirror_mode": {
    "name": "ipython",
    "version": 3
   },
   "file_extension": ".py",
   "mimetype": "text/x-python",
   "name": "python",
   "nbconvert_exporter": "python",
   "pygments_lexer": "ipython3",
   "version": "3.9.6"
  }
 },
 "nbformat": 4,
 "nbformat_minor": 2
}
